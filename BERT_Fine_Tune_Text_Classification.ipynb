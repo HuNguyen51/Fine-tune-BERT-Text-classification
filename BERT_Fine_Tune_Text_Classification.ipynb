{
  "cells": [
    {
      "cell_type": "markdown",
      "metadata": {
        "id": "s2ZV8U5jRrrl"
      },
      "source": [
        "# Import các module"
      ]
    },
    {
      "cell_type": "code",
      "execution_count": null,
      "metadata": {
        "id": "thRSkh04Rrrn"
      },
      "outputs": [],
      "source": [
        "import tensorflow as tf\n",
        "import pandas as pd\n",
        "import os"
      ]
    },
    {
      "cell_type": "code",
      "execution_count": 4,
      "metadata": {
        "colab": {
          "base_uri": "https://localhost:8080/"
        },
        "id": "jDPNjIvCazDV",
        "outputId": "6427cfde-f31c-4be2-8a22-8ef83bdb7e62"
      },
      "outputs": [
        {
          "name": "stdout",
          "output_type": "stream",
          "text": [
            "Không có GPU khả thi nên sử dụng CPU\n"
          ]
        }
      ],
      "source": [
        "import torch\n",
        "# Kiểm tra xem có GPU hay không\n",
        "if torch.cuda.is_available():    \n",
        "    device = torch.device(\"cuda\")\n",
        "\n",
        "    print('Chúng ta sẽ sử dụng:', torch.cuda.get_device_name(0))\n",
        "else:\n",
        "    print('Không có GPU khả thi nên sử dụng CPU')\n",
        "    device = torch.device(\"cpu\")"
      ]
    },
    {
      "cell_type": "markdown",
      "metadata": {
        "id": "cTOlb-GoRrrp"
      },
      "source": [
        "# Load data"
      ]
    },
    {
      "cell_type": "code",
      "execution_count": null,
      "metadata": {
        "colab": {
          "base_uri": "https://localhost:8080/",
          "height": 423
        },
        "id": "H5Bp_hkaRrrq",
        "outputId": "6b31becc-b034-432c-8e12-09c1d03cd862"
      },
      "outputs": [
        {
          "data": {
            "text/html": [
              "\n",
              "  <div id=\"df-721bc04d-efdb-441a-b9c3-d63ea0293d29\">\n",
              "    <div class=\"colab-df-container\">\n",
              "      <div>\n",
              "<style scoped>\n",
              "    .dataframe tbody tr th:only-of-type {\n",
              "        vertical-align: middle;\n",
              "    }\n",
              "\n",
              "    .dataframe tbody tr th {\n",
              "        vertical-align: top;\n",
              "    }\n",
              "\n",
              "    .dataframe thead th {\n",
              "        text-align: right;\n",
              "    }\n",
              "</style>\n",
              "<table border=\"1\" class=\"dataframe\">\n",
              "  <thead>\n",
              "    <tr style=\"text-align: right;\">\n",
              "      <th></th>\n",
              "      <th>label</th>\n",
              "      <th>text</th>\n",
              "    </tr>\n",
              "  </thead>\n",
              "  <tbody>\n",
              "    <tr>\n",
              "      <th>18805</th>\n",
              "      <td>Suc khoe</td>\n",
              "      <td>huyện chim sệ cánh tại gia_đình anh uông văn t...</td>\n",
              "    </tr>\n",
              "    <tr>\n",
              "      <th>17087</th>\n",
              "      <td>Suc khoe</td>\n",
              "      <td>sự hiểu_biết về mối nguy_hại của thuốc_lá còn ...</td>\n",
              "    </tr>\n",
              "    <tr>\n",
              "      <th>19218</th>\n",
              "      <td>Suc khoe</td>\n",
              "      <td>pata đề_nghị châu á mạnh_tay với cúm_gà hiệp_h...</td>\n",
              "    </tr>\n",
              "    <tr>\n",
              "      <th>15815</th>\n",
              "      <td>Phap luat</td>\n",
              "      <td>cơ_quan cảnh_sát điều_tra công_an tỉnh bà rịa ...</td>\n",
              "    </tr>\n",
              "    <tr>\n",
              "      <th>31113</th>\n",
              "      <td>Van hoa</td>\n",
              "      <td>nhạc_sĩ dương thụ ' hãy để sự say_mê cuốn đi '...</td>\n",
              "    </tr>\n",
              "    <tr>\n",
              "      <th>...</th>\n",
              "      <td>...</td>\n",
              "      <td>...</td>\n",
              "    </tr>\n",
              "    <tr>\n",
              "      <th>2220</th>\n",
              "      <td>Chinh tri Xa hoi</td>\n",
              "      <td>chương_trình hợp_tác giữa princeton academy th...</td>\n",
              "    </tr>\n",
              "    <tr>\n",
              "      <th>11678</th>\n",
              "      <td>Kinh doanh</td>\n",
              "      <td>fedex đưa thêm máy_bay vào khai_thác tại vn cô...</td>\n",
              "    </tr>\n",
              "    <tr>\n",
              "      <th>19223</th>\n",
              "      <td>Suc khoe</td>\n",
              "      <td>cai_nghiện ' tại_ngoại ' viện sức_khỏe tâm_thầ...</td>\n",
              "    </tr>\n",
              "    <tr>\n",
              "      <th>2741</th>\n",
              "      <td>Chinh tri Xa hoi</td>\n",
              "      <td>chợ hoa bên sông tiền cứ vào_khoảng từ rằm thá...</td>\n",
              "    </tr>\n",
              "    <tr>\n",
              "      <th>19768</th>\n",
              "      <td>Suc khoe</td>\n",
              "      <td>màu_sắc ảnh_hưởng đến việc ' yêu ' mối liên_qu...</td>\n",
              "    </tr>\n",
              "  </tbody>\n",
              "</table>\n",
              "<p>10000 rows × 2 columns</p>\n",
              "</div>\n",
              "      <button class=\"colab-df-convert\" onclick=\"convertToInteractive('df-721bc04d-efdb-441a-b9c3-d63ea0293d29')\"\n",
              "              title=\"Convert this dataframe to an interactive table.\"\n",
              "              style=\"display:none;\">\n",
              "        \n",
              "  <svg xmlns=\"http://www.w3.org/2000/svg\" height=\"24px\"viewBox=\"0 0 24 24\"\n",
              "       width=\"24px\">\n",
              "    <path d=\"M0 0h24v24H0V0z\" fill=\"none\"/>\n",
              "    <path d=\"M18.56 5.44l.94 2.06.94-2.06 2.06-.94-2.06-.94-.94-2.06-.94 2.06-2.06.94zm-11 1L8.5 8.5l.94-2.06 2.06-.94-2.06-.94L8.5 2.5l-.94 2.06-2.06.94zm10 10l.94 2.06.94-2.06 2.06-.94-2.06-.94-.94-2.06-.94 2.06-2.06.94z\"/><path d=\"M17.41 7.96l-1.37-1.37c-.4-.4-.92-.59-1.43-.59-.52 0-1.04.2-1.43.59L10.3 9.45l-7.72 7.72c-.78.78-.78 2.05 0 2.83L4 21.41c.39.39.9.59 1.41.59.51 0 1.02-.2 1.41-.59l7.78-7.78 2.81-2.81c.8-.78.8-2.07 0-2.86zM5.41 20L4 18.59l7.72-7.72 1.47 1.35L5.41 20z\"/>\n",
              "  </svg>\n",
              "      </button>\n",
              "      \n",
              "  <style>\n",
              "    .colab-df-container {\n",
              "      display:flex;\n",
              "      flex-wrap:wrap;\n",
              "      gap: 12px;\n",
              "    }\n",
              "\n",
              "    .colab-df-convert {\n",
              "      background-color: #E8F0FE;\n",
              "      border: none;\n",
              "      border-radius: 50%;\n",
              "      cursor: pointer;\n",
              "      display: none;\n",
              "      fill: #1967D2;\n",
              "      height: 32px;\n",
              "      padding: 0 0 0 0;\n",
              "      width: 32px;\n",
              "    }\n",
              "\n",
              "    .colab-df-convert:hover {\n",
              "      background-color: #E2EBFA;\n",
              "      box-shadow: 0px 1px 2px rgba(60, 64, 67, 0.3), 0px 1px 3px 1px rgba(60, 64, 67, 0.15);\n",
              "      fill: #174EA6;\n",
              "    }\n",
              "\n",
              "    [theme=dark] .colab-df-convert {\n",
              "      background-color: #3B4455;\n",
              "      fill: #D2E3FC;\n",
              "    }\n",
              "\n",
              "    [theme=dark] .colab-df-convert:hover {\n",
              "      background-color: #434B5C;\n",
              "      box-shadow: 0px 1px 3px 1px rgba(0, 0, 0, 0.15);\n",
              "      filter: drop-shadow(0px 1px 2px rgba(0, 0, 0, 0.3));\n",
              "      fill: #FFFFFF;\n",
              "    }\n",
              "  </style>\n",
              "\n",
              "      <script>\n",
              "        const buttonEl =\n",
              "          document.querySelector('#df-721bc04d-efdb-441a-b9c3-d63ea0293d29 button.colab-df-convert');\n",
              "        buttonEl.style.display =\n",
              "          google.colab.kernel.accessAllowed ? 'block' : 'none';\n",
              "\n",
              "        async function convertToInteractive(key) {\n",
              "          const element = document.querySelector('#df-721bc04d-efdb-441a-b9c3-d63ea0293d29');\n",
              "          const dataTable =\n",
              "            await google.colab.kernel.invokeFunction('convertToInteractive',\n",
              "                                                     [key], {});\n",
              "          if (!dataTable) return;\n",
              "\n",
              "          const docLinkHtml = 'Like what you see? Visit the ' +\n",
              "            '<a target=\"_blank\" href=https://colab.research.google.com/notebooks/data_table.ipynb>data table notebook</a>'\n",
              "            + ' to learn more about interactive tables.';\n",
              "          element.innerHTML = '';\n",
              "          dataTable['output_type'] = 'display_data';\n",
              "          await google.colab.output.renderOutput(dataTable, element);\n",
              "          const docLink = document.createElement('div');\n",
              "          docLink.innerHTML = docLinkHtml;\n",
              "          element.appendChild(docLink);\n",
              "        }\n",
              "      </script>\n",
              "    </div>\n",
              "  </div>\n",
              "  "
            ],
            "text/plain": [
              "                  label                                               text\n",
              "18805          Suc khoe  huyện chim sệ cánh tại gia_đình anh uông văn t...\n",
              "17087          Suc khoe  sự hiểu_biết về mối nguy_hại của thuốc_lá còn ...\n",
              "19218          Suc khoe  pata đề_nghị châu á mạnh_tay với cúm_gà hiệp_h...\n",
              "15815         Phap luat  cơ_quan cảnh_sát điều_tra công_an tỉnh bà rịa ...\n",
              "31113           Van hoa  nhạc_sĩ dương thụ ' hãy để sự say_mê cuốn đi '...\n",
              "...                 ...                                                ...\n",
              "2220   Chinh tri Xa hoi  chương_trình hợp_tác giữa princeton academy th...\n",
              "11678        Kinh doanh  fedex đưa thêm máy_bay vào khai_thác tại vn cô...\n",
              "19223          Suc khoe  cai_nghiện ' tại_ngoại ' viện sức_khỏe tâm_thầ...\n",
              "2741   Chinh tri Xa hoi  chợ hoa bên sông tiền cứ vào_khoảng từ rằm thá...\n",
              "19768          Suc khoe  màu_sắc ảnh_hưởng đến việc ' yêu ' mối liên_qu...\n",
              "\n",
              "[10000 rows x 2 columns]"
            ]
          },
          "execution_count": 29,
          "metadata": {},
          "output_type": "execute_result"
        }
      ],
      "source": [
        "train_path = 'train.csv'\n",
        "# tổng có 33759 dòng trong file\n",
        "df = pd.read_csv(train_path, index_col=0).sample(frac=1)[:10000]\n",
        "df"
      ]
    },
    {
      "cell_type": "code",
      "execution_count": null,
      "metadata": {
        "colab": {
          "base_uri": "https://localhost:8080/",
          "height": 448
        },
        "id": "NBCdaQV2Rrrq",
        "outputId": "298fae59-2bc1-4752-f1d4-3f0d4ce47c9d"
      },
      "outputs": [
        {
          "data": {
            "image/png": "[encoded data removed]",
            "text/plain": [
              "<Figure size 1400x500 with 1 Axes>"
            ]
          },
          "metadata": {},
          "output_type": "display_data"
        }
      ],
      "source": [
        "# Thống kê các lớp\n",
        "from collections import Counter\n",
        "import matplotlib.pyplot as plt\n",
        "\n",
        "labels = df['label'].values\n",
        "texts = df['text'].values\n",
        "\n",
        "x = dict(Counter(labels)).keys()\n",
        "height = dict(Counter(labels)).values()\n",
        "plt.figure(figsize=(14,5))\n",
        "plt.bar(x=x, height=height, width=0.4)\n",
        "plt.show()"
      ]
    },
    {
      "cell_type": "code",
      "execution_count": null,
      "metadata": {
        "colab": {
          "base_uri": "https://localhost:8080/",
          "height": 445
        },
        "id": "R0MbV0LobkbX",
        "outputId": "d7261c0e-7dac-44e7-8d22-decda750e134"
      },
      "outputs": [
        {
          "data": {
            "image/png": "[encoded data removed]",
            "text/plain": [
              "<Figure size 1400x500 with 1 Axes>"
            ]
          },
          "metadata": {},
          "output_type": "display_data"
        }
      ],
      "source": [
        "# load data test\n",
        "test_path = 'test.csv'\n",
        "df_test = pd.read_csv(test_path, index_col=0).sample(frac=1)[:1000]\n",
        "\n",
        "labels_test = df_test['label'].values\n",
        "texts_test = df_test['text'].values\n",
        "\n",
        "x = dict(Counter(labels_test)).keys()\n",
        "height = dict(Counter(labels_test)).values()\n",
        "plt.figure(figsize=(14,5))\n",
        "plt.bar(x=x, height=height, width=0.4)\n",
        "plt.show()"
      ]
    },
    {
      "cell_type": "markdown",
      "metadata": {
        "id": "zWFtFpOcRrrr"
      },
      "source": [
        "# Chuẩn hóa dữ liệu từ văn bản thành số"
      ]
    },
    {
      "cell_type": "markdown",
      "metadata": {
        "id": "XBjXooiFRrrr"
      },
      "source": [
        "### Chuẩn hóa labels"
      ]
    },
    {
      "cell_type": "code",
      "execution_count": null,
      "metadata": {
        "id": "r0rm5eWtRrrr"
      },
      "outputs": [],
      "source": [
        "from sklearn.preprocessing import LabelEncoder\n",
        "le = LabelEncoder().fit(labels)\n",
        "y = le.transform(labels)\n",
        "\n",
        "y_test = le.transform(labels_test)"
      ]
    },
    {
      "cell_type": "markdown",
      "metadata": {
        "id": "7GjRrqgtRrrr"
      },
      "source": [
        "### Chuẩn hóa văn bản"
      ]
    },
    {
      "cell_type": "code",
      "execution_count": null,
      "metadata": {
        "colab": {
          "base_uri": "https://localhost:8080/"
        },
        "id": "QtpGT0zZRrrr",
        "outputId": "06326c0f-55ff-4138-a673-a62baa9ff150"
      },
      "outputs": [
        {
          "name": "stderr",
          "output_type": "stream",
          "text": [
            "Special tokens have been added in the vocabulary, make sure the associated word embeddings are fine-tuned or trained.\n"
          ]
        }
      ],
      "source": [
        "from transformers import AutoTokenizer\n",
        "# Tokenizer để encode đầu vào văn bản\n",
        "model_pretrain = 'vinai/phobert-base'\n",
        "tokenizer = AutoTokenizer.from_pretrained(model_pretrain)"
      ]
    },
    {
      "cell_type": "code",
      "execution_count": null,
      "metadata": {
        "colab": {
          "base_uri": "https://localhost:8080/"
        },
        "id": "Mbgvm1VCRrrs",
        "outputId": "69fff3b5-38dc-4207-e573-dded6ab0fa9e"
      },
      "outputs": [
        {
          "name": "stdout",
          "output_type": "stream",
          "text": [
            "9054\n",
            "386.1466\n"
          ]
        }
      ],
      "source": [
        "# Chúng ta sẽ chọn maxlen là 512\n",
        "avg = 0\n",
        "maximum = 0\n",
        "for sent in texts:\n",
        "    length = len(sent.split())\n",
        "    avg += length\n",
        "    maximum = max(length, maximum)\n",
        "print(maximum)\n",
        "print(avg/len(texts))"
      ]
    },
    {
      "cell_type": "code",
      "execution_count": null,
      "metadata": {
        "id": "1VyvuhtLRrrs"
      },
      "outputs": [],
      "source": [
        "MAX_LEN = 256 # dùng 256 từ để phân loại văn bản"
      ]
    },
    {
      "cell_type": "code",
      "execution_count": null,
      "metadata": {
        "id": "rkemlowqRrrs"
      },
      "outputs": [],
      "source": [
        "X = tokenizer(list(texts), max_length=MAX_LEN, padding='max_length', truncation=True) # truncation là để cắt bỏ bớt phần dài hơn max_length\n",
        "X_test = tokenizer(list(texts_test), max_length=MAX_LEN, padding='max_length', truncation=True)"
      ]
    },
    {
      "cell_type": "code",
      "execution_count": null,
      "metadata": {
        "id": "NMQfJ3sBYPcD"
      },
      "outputs": [],
      "source": [
        "from torch.utils.data import TensorDataset, DataLoader, RandomSampler, SequentialSampler\n",
        "\n",
        "batch_size = 32\n",
        "\n",
        "train_inputs = torch.tensor(X.input_ids)\n",
        "train_masks = torch.tensor(X.attention_mask)\n",
        "train_labels = torch.from_numpy(y)\n",
        "\n",
        "# Tạo Dataloader cho train set\n",
        "train_data = TensorDataset(train_inputs, train_masks, train_labels)\n",
        "train_sampler = RandomSampler(train_data) # dùng để tạo ra các bath với dữ liệu ngẫu nhiên\n",
        "train_dataloader = DataLoader(train_data, sampler=train_sampler, batch_size=batch_size) \n",
        "\n",
        "test_inputs = torch.tensor(X_test.input_ids)\n",
        "test_masks = torch.tensor(X_test.attention_mask)\n",
        "test_labels = torch.from_numpy(y_test)\n",
        "\n",
        "# Tạo Dataloader cho test set\n",
        "test_data = TensorDataset(test_inputs, test_masks, test_labels)\n",
        "test_sampler = RandomSampler(test_data)\n",
        "test_dataloader = DataLoader(test_data, sampler=test_sampler, batch_size=batch_size)"
      ]
    },
    {
      "cell_type": "markdown",
      "metadata": {
        "id": "gvbPfeZFRrrt"
      },
      "source": [
        "# Load model"
      ]
    },
    {
      "cell_type": "code",
      "execution_count": null,
      "metadata": {
        "colab": {
          "base_uri": "https://localhost:8080/"
        },
        "id": "BjB293eRRrrt",
        "outputId": "9552a4ae-93c9-4598-82bb-a44611998229"
      },
      "outputs": [
        {
          "name": "stderr",
          "output_type": "stream",
          "text": [
            "Some weights of the model checkpoint at vinai/phobert-base were not used when initializing RobertaForSequenceClassification: ['roberta.pooler.dense.bias', 'lm_head.bias', 'lm_head.layer_norm.bias', 'lm_head.dense.bias', 'lm_head.layer_norm.weight', 'roberta.pooler.dense.weight', 'lm_head.decoder.bias', 'lm_head.dense.weight', 'lm_head.decoder.weight']\n",
            "- This IS expected if you are initializing RobertaForSequenceClassification from the checkpoint of a model trained on another task or with another architecture (e.g. initializing a BertForSequenceClassification model from a BertForPreTraining model).\n",
            "- This IS NOT expected if you are initializing RobertaForSequenceClassification from the checkpoint of a model that you expect to be exactly identical (initializing a BertForSequenceClassification model from a BertForSequenceClassification model).\n",
            "Some weights of RobertaForSequenceClassification were not initialized from the model checkpoint at vinai/phobert-base and are newly initialized: ['classifier.out_proj.weight', 'classifier.dense.weight', 'classifier.dense.bias', 'classifier.out_proj.bias']\n",
            "You should probably TRAIN this model on a down-stream task to be able to use it for predictions and inference.\n"
          ]
        }
      ],
      "source": [
        "from transformers import  RobertaForSequenceClassification\n",
        "# Mô hình ngôn ngữ Phobert của vinai sử dụng pre-train của RoBERTa, đây là các model sử dụng có hiệu suất cao trong tiếng Việt\n",
        "model =  RobertaForSequenceClassification.from_pretrained(model_pretrain, \n",
        "                                                          num_labels = 10,\n",
        "                                                          output_hidden_states=False,\n",
        "                                                          output_attentions = False)"
      ]
    },
    {
      "cell_type": "code",
      "execution_count": null,
      "metadata": {
        "colab": {
          "base_uri": "https://localhost:8080/"
        },
        "id": "GdOTYQ4lU30W",
        "outputId": "884ffa0b-8c81-48ca-80d0-b9b29093b2cb"
      },
      "outputs": [
        {
          "name": "stdout",
          "output_type": "stream",
          "text": [
            "Model BERT có 201 Tham số khác nhau.\n",
            "\n",
            "==== Embedding Layer ====\n",
            "\n",
            "roberta.embeddings.word_embeddings.weight               (64001, 768)\n",
            "roberta.embeddings.position_embeddings.weight             (258, 768)\n",
            "roberta.embeddings.token_type_embeddings.weight             (1, 768)\n",
            "roberta.embeddings.LayerNorm.weight                           (768,)\n",
            "roberta.embeddings.LayerNorm.bias                             (768,)\n",
            "\n",
            "==== First Transformer ====\n",
            "\n",
            "roberta.encoder.layer.0.attention.self.query.weight       (768, 768)\n",
            "roberta.encoder.layer.0.attention.self.query.bias             (768,)\n",
            "roberta.encoder.layer.0.attention.self.key.weight         (768, 768)\n",
            "roberta.encoder.layer.0.attention.self.key.bias               (768,)\n",
            "roberta.encoder.layer.0.attention.self.value.weight       (768, 768)\n",
            "roberta.encoder.layer.0.attention.self.value.bias             (768,)\n",
            "roberta.encoder.layer.0.attention.output.dense.weight     (768, 768)\n",
            "roberta.encoder.layer.0.attention.output.dense.bias           (768,)\n",
            "roberta.encoder.layer.0.attention.output.LayerNorm.weight       (768,)\n",
            "roberta.encoder.layer.0.attention.output.LayerNorm.bias       (768,)\n",
            "roberta.encoder.layer.0.intermediate.dense.weight        (3072, 768)\n",
            "roberta.encoder.layer.0.intermediate.dense.bias              (3072,)\n",
            "roberta.encoder.layer.0.output.dense.weight              (768, 3072)\n",
            "roberta.encoder.layer.0.output.dense.bias                     (768,)\n",
            "roberta.encoder.layer.0.output.LayerNorm.weight               (768,)\n",
            "roberta.encoder.layer.0.output.LayerNorm.bias                 (768,)\n",
            "roberta.encoder.layer.1.attention.self.query.weight       (768, 768)\n",
            "roberta.encoder.layer.1.attention.self.query.bias             (768,)\n",
            "roberta.encoder.layer.1.attention.self.key.weight         (768, 768)\n",
            "roberta.encoder.layer.1.attention.self.key.bias               (768,)\n",
            "roberta.encoder.layer.1.attention.self.value.weight       (768, 768)\n",
            "roberta.encoder.layer.1.attention.self.value.bias             (768,)\n",
            "roberta.encoder.layer.1.attention.output.dense.weight     (768, 768)\n",
            "roberta.encoder.layer.1.attention.output.dense.bias           (768,)\n",
            "roberta.encoder.layer.1.attention.output.LayerNorm.weight       (768,)\n",
            "roberta.encoder.layer.1.attention.output.LayerNorm.bias       (768,)\n",
            "roberta.encoder.layer.1.intermediate.dense.weight        (3072, 768)\n",
            "roberta.encoder.layer.1.intermediate.dense.bias              (3072,)\n",
            "roberta.encoder.layer.1.output.dense.weight              (768, 3072)\n",
            "roberta.encoder.layer.1.output.dense.bias                     (768,)\n",
            "roberta.encoder.layer.1.output.LayerNorm.weight               (768,)\n",
            "roberta.encoder.layer.1.output.LayerNorm.bias                 (768,)\n",
            "roberta.encoder.layer.2.attention.self.query.weight       (768, 768)\n",
            "roberta.encoder.layer.2.attention.self.query.bias             (768,)\n",
            "roberta.encoder.layer.2.attention.self.key.weight         (768, 768)\n",
            "roberta.encoder.layer.2.attention.self.key.bias               (768,)\n",
            "roberta.encoder.layer.2.attention.self.value.weight       (768, 768)\n",
            "roberta.encoder.layer.2.attention.self.value.bias             (768,)\n",
            "roberta.encoder.layer.2.attention.output.dense.weight     (768, 768)\n",
            "roberta.encoder.layer.2.attention.output.dense.bias           (768,)\n",
            "roberta.encoder.layer.2.attention.output.LayerNorm.weight       (768,)\n",
            "roberta.encoder.layer.2.attention.output.LayerNorm.bias       (768,)\n",
            "roberta.encoder.layer.2.intermediate.dense.weight        (3072, 768)\n",
            "roberta.encoder.layer.2.intermediate.dense.bias              (3072,)\n",
            "roberta.encoder.layer.2.output.dense.weight              (768, 3072)\n",
            "roberta.encoder.layer.2.output.dense.bias                     (768,)\n",
            "roberta.encoder.layer.2.output.LayerNorm.weight               (768,)\n",
            "roberta.encoder.layer.2.output.LayerNorm.bias                 (768,)\n",
            "roberta.encoder.layer.3.attention.self.query.weight       (768, 768)\n",
            "roberta.encoder.layer.3.attention.self.query.bias             (768,)\n",
            "roberta.encoder.layer.3.attention.self.key.weight         (768, 768)\n",
            "roberta.encoder.layer.3.attention.self.key.bias               (768,)\n",
            "roberta.encoder.layer.3.attention.self.value.weight       (768, 768)\n",
            "roberta.encoder.layer.3.attention.self.value.bias             (768,)\n",
            "roberta.encoder.layer.3.attention.output.dense.weight     (768, 768)\n",
            "roberta.encoder.layer.3.attention.output.dense.bias           (768,)\n",
            "roberta.encoder.layer.3.attention.output.LayerNorm.weight       (768,)\n",
            "roberta.encoder.layer.3.attention.output.LayerNorm.bias       (768,)\n",
            "roberta.encoder.layer.3.intermediate.dense.weight        (3072, 768)\n",
            "roberta.encoder.layer.3.intermediate.dense.bias              (3072,)\n",
            "roberta.encoder.layer.3.output.dense.weight              (768, 3072)\n",
            "roberta.encoder.layer.3.output.dense.bias                     (768,)\n",
            "roberta.encoder.layer.3.output.LayerNorm.weight               (768,)\n",
            "roberta.encoder.layer.3.output.LayerNorm.bias                 (768,)\n",
            "roberta.encoder.layer.4.attention.self.query.weight       (768, 768)\n",
            "roberta.encoder.layer.4.attention.self.query.bias             (768,)\n",
            "roberta.encoder.layer.4.attention.self.key.weight         (768, 768)\n",
            "roberta.encoder.layer.4.attention.self.key.bias               (768,)\n",
            "roberta.encoder.layer.4.attention.self.value.weight       (768, 768)\n",
            "roberta.encoder.layer.4.attention.self.value.bias             (768,)\n",
            "roberta.encoder.layer.4.attention.output.dense.weight     (768, 768)\n",
            "roberta.encoder.layer.4.attention.output.dense.bias           (768,)\n",
            "roberta.encoder.layer.4.attention.output.LayerNorm.weight       (768,)\n",
            "roberta.encoder.layer.4.attention.output.LayerNorm.bias       (768,)\n",
            "roberta.encoder.layer.4.intermediate.dense.weight        (3072, 768)\n",
            "roberta.encoder.layer.4.intermediate.dense.bias              (3072,)\n",
            "roberta.encoder.layer.4.output.dense.weight              (768, 3072)\n",
            "roberta.encoder.layer.4.output.dense.bias                     (768,)\n",
            "roberta.encoder.layer.4.output.LayerNorm.weight               (768,)\n",
            "roberta.encoder.layer.4.output.LayerNorm.bias                 (768,)\n",
            "roberta.encoder.layer.5.attention.self.query.weight       (768, 768)\n",
            "roberta.encoder.layer.5.attention.self.query.bias             (768,)\n",
            "roberta.encoder.layer.5.attention.self.key.weight         (768, 768)\n",
            "roberta.encoder.layer.5.attention.self.key.bias               (768,)\n",
            "roberta.encoder.layer.5.attention.self.value.weight       (768, 768)\n",
            "roberta.encoder.layer.5.attention.self.value.bias             (768,)\n",
            "roberta.encoder.layer.5.attention.output.dense.weight     (768, 768)\n",
            "roberta.encoder.layer.5.attention.output.dense.bias           (768,)\n",
            "roberta.encoder.layer.5.attention.output.LayerNorm.weight       (768,)\n",
            "roberta.encoder.layer.5.attention.output.LayerNorm.bias       (768,)\n",
            "roberta.encoder.layer.5.intermediate.dense.weight        (3072, 768)\n",
            "roberta.encoder.layer.5.intermediate.dense.bias              (3072,)\n",
            "roberta.encoder.layer.5.output.dense.weight              (768, 3072)\n",
            "roberta.encoder.layer.5.output.dense.bias                     (768,)\n",
            "roberta.encoder.layer.5.output.LayerNorm.weight               (768,)\n",
            "roberta.encoder.layer.5.output.LayerNorm.bias                 (768,)\n",
            "roberta.encoder.layer.6.attention.self.query.weight       (768, 768)\n",
            "roberta.encoder.layer.6.attention.self.query.bias             (768,)\n",
            "roberta.encoder.layer.6.attention.self.key.weight         (768, 768)\n",
            "roberta.encoder.layer.6.attention.self.key.bias               (768,)\n",
            "roberta.encoder.layer.6.attention.self.value.weight       (768, 768)\n",
            "roberta.encoder.layer.6.attention.self.value.bias             (768,)\n",
            "roberta.encoder.layer.6.attention.output.dense.weight     (768, 768)\n",
            "roberta.encoder.layer.6.attention.output.dense.bias           (768,)\n",
            "roberta.encoder.layer.6.attention.output.LayerNorm.weight       (768,)\n",
            "roberta.encoder.layer.6.attention.output.LayerNorm.bias       (768,)\n",
            "roberta.encoder.layer.6.intermediate.dense.weight        (3072, 768)\n",
            "roberta.encoder.layer.6.intermediate.dense.bias              (3072,)\n",
            "roberta.encoder.layer.6.output.dense.weight              (768, 3072)\n",
            "roberta.encoder.layer.6.output.dense.bias                     (768,)\n",
            "roberta.encoder.layer.6.output.LayerNorm.weight               (768,)\n",
            "roberta.encoder.layer.6.output.LayerNorm.bias                 (768,)\n",
            "roberta.encoder.layer.7.attention.self.query.weight       (768, 768)\n",
            "roberta.encoder.layer.7.attention.self.query.bias             (768,)\n",
            "roberta.encoder.layer.7.attention.self.key.weight         (768, 768)\n",
            "roberta.encoder.layer.7.attention.self.key.bias               (768,)\n",
            "roberta.encoder.layer.7.attention.self.value.weight       (768, 768)\n",
            "roberta.encoder.layer.7.attention.self.value.bias             (768,)\n",
            "roberta.encoder.layer.7.attention.output.dense.weight     (768, 768)\n",
            "roberta.encoder.layer.7.attention.output.dense.bias           (768,)\n",
            "roberta.encoder.layer.7.attention.output.LayerNorm.weight       (768,)\n",
            "roberta.encoder.layer.7.attention.output.LayerNorm.bias       (768,)\n",
            "roberta.encoder.layer.7.intermediate.dense.weight        (3072, 768)\n",
            "roberta.encoder.layer.7.intermediate.dense.bias              (3072,)\n",
            "roberta.encoder.layer.7.output.dense.weight              (768, 3072)\n",
            "roberta.encoder.layer.7.output.dense.bias                     (768,)\n",
            "roberta.encoder.layer.7.output.LayerNorm.weight               (768,)\n",
            "roberta.encoder.layer.7.output.LayerNorm.bias                 (768,)\n",
            "roberta.encoder.layer.8.attention.self.query.weight       (768, 768)\n",
            "roberta.encoder.layer.8.attention.self.query.bias             (768,)\n",
            "roberta.encoder.layer.8.attention.self.key.weight         (768, 768)\n",
            "roberta.encoder.layer.8.attention.self.key.bias               (768,)\n",
            "roberta.encoder.layer.8.attention.self.value.weight       (768, 768)\n",
            "roberta.encoder.layer.8.attention.self.value.bias             (768,)\n",
            "roberta.encoder.layer.8.attention.output.dense.weight     (768, 768)\n",
            "roberta.encoder.layer.8.attention.output.dense.bias           (768,)\n",
            "roberta.encoder.layer.8.attention.output.LayerNorm.weight       (768,)\n",
            "roberta.encoder.layer.8.attention.output.LayerNorm.bias       (768,)\n",
            "roberta.encoder.layer.8.intermediate.dense.weight        (3072, 768)\n",
            "roberta.encoder.layer.8.intermediate.dense.bias              (3072,)\n",
            "roberta.encoder.layer.8.output.dense.weight              (768, 3072)\n",
            "roberta.encoder.layer.8.output.dense.bias                     (768,)\n",
            "roberta.encoder.layer.8.output.LayerNorm.weight               (768,)\n",
            "roberta.encoder.layer.8.output.LayerNorm.bias                 (768,)\n",
            "roberta.encoder.layer.9.attention.self.query.weight       (768, 768)\n",
            "roberta.encoder.layer.9.attention.self.query.bias             (768,)\n",
            "roberta.encoder.layer.9.attention.self.key.weight         (768, 768)\n",
            "roberta.encoder.layer.9.attention.self.key.bias               (768,)\n",
            "roberta.encoder.layer.9.attention.self.value.weight       (768, 768)\n",
            "roberta.encoder.layer.9.attention.self.value.bias             (768,)\n",
            "roberta.encoder.layer.9.attention.output.dense.weight     (768, 768)\n",
            "roberta.encoder.layer.9.attention.output.dense.bias           (768,)\n",
            "roberta.encoder.layer.9.attention.output.LayerNorm.weight       (768,)\n",
            "roberta.encoder.layer.9.attention.output.LayerNorm.bias       (768,)\n",
            "roberta.encoder.layer.9.intermediate.dense.weight        (3072, 768)\n",
            "roberta.encoder.layer.9.intermediate.dense.bias              (3072,)\n",
            "roberta.encoder.layer.9.output.dense.weight              (768, 3072)\n",
            "roberta.encoder.layer.9.output.dense.bias                     (768,)\n",
            "roberta.encoder.layer.9.output.LayerNorm.weight               (768,)\n",
            "roberta.encoder.layer.9.output.LayerNorm.bias                 (768,)\n",
            "roberta.encoder.layer.10.attention.self.query.weight      (768, 768)\n",
            "roberta.encoder.layer.10.attention.self.query.bias            (768,)\n",
            "roberta.encoder.layer.10.attention.self.key.weight        (768, 768)\n",
            "roberta.encoder.layer.10.attention.self.key.bias              (768,)\n",
            "roberta.encoder.layer.10.attention.self.value.weight      (768, 768)\n",
            "roberta.encoder.layer.10.attention.self.value.bias            (768,)\n",
            "roberta.encoder.layer.10.attention.output.dense.weight    (768, 768)\n",
            "roberta.encoder.layer.10.attention.output.dense.bias          (768,)\n",
            "roberta.encoder.layer.10.attention.output.LayerNorm.weight       (768,)\n",
            "roberta.encoder.layer.10.attention.output.LayerNorm.bias       (768,)\n",
            "roberta.encoder.layer.10.intermediate.dense.weight       (3072, 768)\n",
            "roberta.encoder.layer.10.intermediate.dense.bias             (3072,)\n",
            "roberta.encoder.layer.10.output.dense.weight             (768, 3072)\n",
            "roberta.encoder.layer.10.output.dense.bias                    (768,)\n",
            "roberta.encoder.layer.10.output.LayerNorm.weight              (768,)\n",
            "roberta.encoder.layer.10.output.LayerNorm.bias                (768,)\n",
            "roberta.encoder.layer.11.attention.self.query.weight      (768, 768)\n",
            "roberta.encoder.layer.11.attention.self.query.bias            (768,)\n",
            "roberta.encoder.layer.11.attention.self.key.weight        (768, 768)\n",
            "roberta.encoder.layer.11.attention.self.key.bias              (768,)\n",
            "roberta.encoder.layer.11.attention.self.value.weight      (768, 768)\n",
            "roberta.encoder.layer.11.attention.self.value.bias            (768,)\n",
            "roberta.encoder.layer.11.attention.output.dense.weight    (768, 768)\n",
            "roberta.encoder.layer.11.attention.output.dense.bias          (768,)\n",
            "roberta.encoder.layer.11.attention.output.LayerNorm.weight       (768,)\n",
            "roberta.encoder.layer.11.attention.output.LayerNorm.bias       (768,)\n",
            "roberta.encoder.layer.11.intermediate.dense.weight       (3072, 768)\n",
            "roberta.encoder.layer.11.intermediate.dense.bias             (3072,)\n",
            "roberta.encoder.layer.11.output.dense.weight             (768, 3072)\n",
            "roberta.encoder.layer.11.output.dense.bias                    (768,)\n",
            "roberta.encoder.layer.11.output.LayerNorm.weight              (768,)\n",
            "roberta.encoder.layer.11.output.LayerNorm.bias                (768,)\n",
            "\n",
            "==== Output Layer ====\n",
            "\n",
            "classifier.dense.weight                                   (768, 768)\n",
            "classifier.dense.bias                                         (768,)\n",
            "classifier.out_proj.weight                                 (10, 768)\n",
            "classifier.out_proj.bias                                       (10,)\n"
          ]
        }
      ],
      "source": [
        "# Get all of the model's parameters as a list of tuples.\n",
        "params = list(model.named_parameters())\n",
        "\n",
        "print('Model BERT có {:} Tham số khác nhau.\\n'.format(len(params)))\n",
        "\n",
        "print('==== Embedding Layer ====\\n')\n",
        "for p in params[0:5]:\n",
        "    print(\"{:<55} {:>12}\".format(p[0], str(tuple(p[1].size()))))\n",
        "\n",
        "print('\\n==== First Transformer ====\\n')\n",
        "for p in params[5:-4]:\n",
        "    print(\"{:<55} {:>12}\".format(p[0], str(tuple(p[1].size()))))\n",
        "\n",
        "print('\\n==== Output Layer ====\\n')\n",
        "for p in params[-4:]:\n",
        "    print(\"{:<55} {:>12}\".format(p[0], str(tuple(p[1].size()))))"
      ]
    },
    {
      "cell_type": "code",
      "execution_count": null,
      "metadata": {
        "id": "QLJ_WeZ7WouH"
      },
      "outputs": [],
      "source": [
        "from transformers import AdamW, BertConfig"
      ]
    },
    {
      "cell_type": "code",
      "execution_count": null,
      "metadata": {
        "colab": {
          "base_uri": "https://localhost:8080/"
        },
        "id": "pavFCf0zVzAT",
        "outputId": "3395847c-3d5a-4755-f405-f1e4fdb4a7ee"
      },
      "outputs": [
        {
          "name": "stderr",
          "output_type": "stream",
          "text": [
            "/usr/local/lib/python3.9/dist-packages/transformers/optimization.py:391: FutureWarning: This implementation of AdamW is deprecated and will be removed in a future version. Use the PyTorch implementation torch.optim.AdamW instead, or set `no_deprecation_warning=True` to disable this warning\n",
            "  warnings.warn(\n"
          ]
        }
      ],
      "source": [
        "# Thuật toán tối ưu\n",
        "optimizer = AdamW(model.parameters(),\n",
        "                  lr = 5e-5, # args.learning_rate - mặc định 5e-5\n",
        "                  eps = 1e-8 # args.adam_epsilon  - mặc định is 1e-8.\n",
        "                )"
      ]
    },
    {
      "cell_type": "code",
      "execution_count": null,
      "metadata": {
        "id": "36u0kT7RYDLZ"
      },
      "outputs": [],
      "source": [
        "from transformers import get_linear_schedule_with_warmup\n",
        "\n",
        "# Số lần backward\n",
        "epochs = 4\n",
        "\n",
        "# Tổng số bước training\n",
        "total_steps = len(train_dataloader) * epochs\n",
        "\n",
        "# Tạo learning rate scheduler.\n",
        "scheduler = get_linear_schedule_with_warmup(optimizer, \n",
        "                                            num_warmup_steps = 0,\n",
        "                                            num_training_steps = total_steps)"
      ]
    },
    {
      "cell_type": "code",
      "execution_count": null,
      "metadata": {
        "id": "fOC9-mJIaGhh"
      },
      "outputs": [],
      "source": [
        "import numpy as np\n",
        "\n",
        "# hàm tính độ chính xác của nhãn dự đoán và nhãn thực tế (ta sẽ chọn vị trí có giá trị cao nhất có khả năng là nhãn đúng trong preds)\n",
        "# pred = [[0,1,2,1.5], [5,6,4,3]] -> argmax -> [[2], [6]] -> flatten -> [2,6]\n",
        "def flat_accuracy(preds, labels):\n",
        "    pred_flat = np.argmax(preds, axis=1).flatten()\n",
        "    labels_flat = labels.flatten()\n",
        "    return np.sum(pred_flat == labels_flat) / len(labels_flat)"
      ]
    },
    {
      "cell_type": "code",
      "execution_count": null,
      "metadata": {
        "id": "ddGMa7p7aLwF"
      },
      "outputs": [],
      "source": [
        "import time\n",
        "import datetime\n",
        "\n",
        "# Nhận đầu vào là giây, đầu ra là chuỗi hàng hh:mm:ss\n",
        "def format_time(elapsed):\n",
        "    elapsed_rounded = int(round((elapsed)))\n",
        "    return str(datetime.timedelta(seconds=elapsed_rounded))"
      ]
    },
    {
      "cell_type": "code",
      "execution_count": null,
      "metadata": {
        "colab": {
          "base_uri": "https://localhost:8080/"
        },
        "id": "b_0pE4nKaLqS",
        "outputId": "2f800efe-21b4-4bd2-c28b-84224b6a449e"
      },
      "outputs": [
        {
          "name": "stdout",
          "output_type": "stream",
          "text": [
            "\n",
            "======== Epoch 1 / 4 ========\n",
            "Training...\n",
            "  Batch    80  of    313.    Elapsed: 0:01:46.\n",
            "  Batch   160  of    313.    Elapsed: 0:03:36.\n",
            "  Batch   240  of    313.    Elapsed: 0:05:25.\n",
            "\n",
            "  Average training loss: 0.61\n",
            "  Training epcoh took: 0:07:05\n",
            "\n",
            "Running Validation...\n",
            "  Accuracy: 0.88\n",
            "  Test took: 0:00:15\n",
            "\n",
            "======== Epoch 2 / 4 ========\n",
            "Training...\n",
            "  Batch    80  of    313.    Elapsed: 0:01:50.\n",
            "  Batch   160  of    313.    Elapsed: 0:03:40.\n",
            "  Batch   240  of    313.    Elapsed: 0:05:29.\n",
            "\n",
            "  Average training loss: 0.22\n",
            "  Training epcoh took: 0:07:08\n",
            "\n",
            "Running Validation...\n",
            "  Accuracy: 0.91\n",
            "  Test took: 0:00:15\n",
            "\n",
            "======== Epoch 3 / 4 ========\n",
            "Training...\n",
            "  Batch    80  of    313.    Elapsed: 0:01:50.\n",
            "  Batch   160  of    313.    Elapsed: 0:03:39.\n",
            "  Batch   240  of    313.    Elapsed: 0:05:29.\n",
            "\n",
            "  Average training loss: 0.12\n",
            "  Training epcoh took: 0:07:08\n",
            "\n",
            "Running Validation...\n",
            "  Accuracy: 0.91\n",
            "  Test took: 0:00:15\n",
            "\n",
            "======== Epoch 4 / 4 ========\n",
            "Training...\n",
            "  Batch    80  of    313.    Elapsed: 0:01:49.\n",
            "  Batch   160  of    313.    Elapsed: 0:03:39.\n",
            "  Batch   240  of    313.    Elapsed: 0:05:29.\n",
            "\n",
            "  Average training loss: 0.05\n",
            "  Training epcoh took: 0:07:08\n",
            "\n",
            "Running Validation...\n",
            "  Accuracy: 0.91\n",
            "  Test took: 0:00:15\n",
            "\n",
            "Training complete!\n"
          ]
        }
      ],
      "source": [
        "import random\n",
        "\n",
        "# Training code dựa trên `run_glue.py`, script ở đây:\n",
        "# https://github.com/huggingface/transformers/blob/5bfcd0485ece086ebcbed2d008813037968a9e58/examples/run_glue.py#L128\n",
        "\n",
        "# đặt giá trị seed để khi dùng random nó có thể cho ra kết quả giống nhau\n",
        "seed_val = 42\n",
        "\n",
        "random.seed(seed_val)\n",
        "np.random.seed(seed_val)\n",
        "torch.manual_seed(seed_val)\n",
        "torch.cuda.manual_seed_all(seed_val)\n",
        "\n",
        "# Lưu lại giá trị lỗi để kiểm tra\n",
        "loss_values = []\n",
        "\n",
        "model.to(device)\n",
        "# Bắt đầu train\n",
        "for epoch_i in range(0, epochs):\n",
        "    \n",
        "    # ========================================\n",
        "    #               Training\n",
        "    # ========================================\n",
        "\n",
        "    print(\"\")\n",
        "    print('======== Epoch {:} / {:} ========'.format(epoch_i + 1, epochs))\n",
        "    print('Training...')\n",
        "\n",
        "    # Kiểm tra thời gian train\n",
        "    t0 = time.time()\n",
        "\n",
        "    total_loss = 0\n",
        "\n",
        "    # Đưa model vào training mode\n",
        "    # train chỉ là thay đổi chế độ, nó không thực hiện training gì cả\n",
        "    # dropout và`batchnorm layers sẽ có hành vi khác nhau trong quá trình training\n",
        "    # vs. test (source: https://stackoverflow.com/questions/51433378/what-does-model-train-do-in-pytorch)\n",
        "    model.train()\n",
        "\n",
        "    # Mỗi batch trong data\n",
        "    for step, batch in enumerate(train_dataloader):\n",
        "\n",
        "        # kiểm tra thời gian train 40 bath là bao lâu\n",
        "        if step % 80 == 0 and not step == 0:\n",
        "            elapsed = format_time(time.time() - t0)\n",
        "            print('  Batch {:>5,}  of  {:>5,}.    Elapsed: {:}.'.format(step, len(train_dataloader), elapsed))\n",
        "\n",
        "        # lấy dữ liệu từ dataloader\n",
        "        # Khi lấy dữ liệu ta cần phải sử dụng phương thức 'to' để đưa về kiểu thiết bị mình muốn sử dụng (ví dụ như GPU hoặc CPU) \n",
        "        # mỗi batch bao gồm 3 pytorch tensors:\n",
        "        #   [0]: input ids \n",
        "        #   [1]: attention masks\n",
        "        #   [2]: labels \n",
        "        b_input_ids = batch[0].to(device)\n",
        "        b_input_mask = batch[1].to(device)\n",
        "        b_labels = batch[2].to(device)\n",
        "\n",
        "        # Luôn luôn clear gradients đã được tính toán từ lần trước trước khi backward, \n",
        "        # PyTorch không tự làm việc này tự động, vì tích lũy gradients là \"convenient while training RNNs\".\n",
        "        # (source: https://stackoverflow.com/questions/48001598/why-do-we-need-to-call-zero-grad-in-pytorch)\n",
        "        model.zero_grad()        \n",
        "\n",
        "        # Thực hiện forward model (lan truyền tiến), nó sẽ trả về loss (thay vì output) vì chúng ta có truyền vào label\n",
        "        # https://huggingface.co/transformers/v2.2.0/model_doc/bert.html#transformers.BertForSequenceClassification\n",
        "        outputs = model(b_input_ids, \n",
        "                    token_type_ids=None, \n",
        "                    attention_mask=b_input_mask, \n",
        "                    labels=b_labels)\n",
        "   \n",
        "        # outputs sẽ là một tuple và chúng ta cần lấy loss từ tuple đó\n",
        "        loss = outputs[0]\n",
        "\n",
        "        # Chúng ta sẽ tính lỗi trên từng batch rồi tính trung bình lỗi khi kết thúc\n",
        "        # loss là một Tensor bao gồm một giá trị, hàm .item() sẽ trả về giá trị đó\n",
        "        total_loss += loss.item()\n",
        "\n",
        "        # Thực hiện backward để tính gradients (lan truyền ngược)\n",
        "        loss.backward()\n",
        "\n",
        "        # Cắt định mức của gradients thành 1.0, nó sẽ giúp ngăn chặn vấn đề \"exploding gradients\"\n",
        "        torch.nn.utils.clip_grad_norm_(model.parameters(), 1.0)\n",
        "\n",
        "        # Cập nhật các tham số sử dụng gradients\n",
        "        # opimizer đưa ra các \"update rule\" là các tham số sẽ được sửa đổi dựa trên gradients, learning rate,...\n",
        "        optimizer.step()\n",
        "\n",
        "        # Cập nhật learning rate\n",
        "        scheduler.step()\n",
        "\n",
        "    # Tính toán trung bình lỗi khi train\n",
        "    avg_train_loss = total_loss / len(train_dataloader)            \n",
        "    \n",
        "    # lưu lại các giá trị lỗi vào mảng \n",
        "    loss_values.append(avg_train_loss)\n",
        "\n",
        "    print(\"\")\n",
        "    print(\"  Average training loss: {0:.2f}\".format(avg_train_loss))\n",
        "    print(\"  Training epcoh took: {:}\".format(format_time(time.time() - t0)))\n",
        "        \n",
        "    # ========================================\n",
        "    #               Validation\n",
        "    # ========================================\n",
        "    # Sau khi train, chúng ta sẽ kiểm tra lại độ hiệu quả của model trên tập validate\n",
        "\n",
        "    print(\"\")\n",
        "    print(\"Running Validation...\")\n",
        "\n",
        "    t0 = time.time()\n",
        "\n",
        "    # đặt model vào trạng thái evaluation\n",
        "    # dropout và`batchnorm layers sẽ có hành vi khác nhau trong quá trình evaluation\n",
        "    model.eval()\n",
        "\n",
        "    # Theo dõi các biến thông số\n",
        "    test_loss, test_accuracy = 0, 0\n",
        "    nb_test_steps, nb_test_examples = 0, 0\n",
        "\n",
        "    # Đánh giá cho mỗi epochs\n",
        "    for batch in test_dataloader:\n",
        "        \n",
        "        # Đưa batch thành GPU mode\n",
        "        batch = tuple(t.to(device) for t in batch)\n",
        "        \n",
        "        # Lấy dữ liệu từ dataloader\n",
        "        b_input_ids, b_input_mask, b_labels = batch\n",
        "        \n",
        "        # Cho model biết rằng là sẽ không tính toán và lưu gradients, để tiết kiệm bộ nhớ và tăng tốc độ xá thực\n",
        "        with torch.no_grad():        \n",
        "            # forward để tính toán logit predictions\n",
        "            # Nó sẽ trả về logits thay vì loss vì chúng ta không truyền vào labels\n",
        "            # https://huggingface.co/transformers/v2.2.0/model_doc/bert.html#transformers.BertForSequenceClassification\n",
        "            outputs = model(b_input_ids, \n",
        "                            token_type_ids=None, \n",
        "                            attention_mask=b_input_mask)\n",
        "        \n",
        "        # Get the \"logits\" output by the model. The \"logits\" are the output\n",
        "        # values prior to applying an activation function like the softmax.\n",
        "        # Lấy giá trị logits từ model, các giá trị đầu ra trước khi áp dụng hàm kích hoạt như softmax\n",
        "        logits = outputs[0]\n",
        "\n",
        "        # Chuyển logits và labels thành CPU mode\n",
        "        logits = logits.detach().cpu().numpy()\n",
        "        label_ids = b_labels.to('cpu').numpy()\n",
        "        \n",
        "        # TÍnh toán độ chính xác cho batch này\n",
        "        tmp_test_accuracy = flat_accuracy(logits, label_ids)\n",
        "        \n",
        "        # Tích lũy tổng độ chính xác\n",
        "        test_accuracy += tmp_test_accuracy\n",
        "\n",
        "        # Lưu lại số lượng các batch\n",
        "        nb_test_steps += 1\n",
        "\n",
        "    # In ra độ chính xác và thời gian validate\n",
        "    print(\"  Accuracy: {0:.2f}\".format(test_accuracy/nb_test_steps))\n",
        "    print(\"  Test took: {:}\".format(format_time(time.time() - t0)))\n",
        "\n",
        "print(\"\")\n",
        "print(\"Training complete!\")"
      ]
    },
    {
      "cell_type": "code",
      "execution_count": null,
      "metadata": {
        "id": "cwDZpbrmread"
      },
      "outputs": [],
      "source": [
        "# sử dụng report classification để đánh giá model\n",
        "# giống với validate trong quá trình train\n",
        "model.eval()\n",
        "  \n",
        "predictions , true_labels = np.array([]), np.array([])\n",
        "\n",
        "for batch in test_dataloader:\n",
        "  batch = tuple(t.to(device) for t in batch)\n",
        "  b_input_ids, b_input_mask, b_labels = batch\n",
        "  \n",
        "  with torch.no_grad():\n",
        "      outputs = model(b_input_ids, token_type_ids=None, \n",
        "                      attention_mask=b_input_mask)\n",
        "\n",
        "  logits = outputs[0]\n",
        "\n",
        "  logits = logits.detach().cpu().numpy()\n",
        "  label_ids = b_labels.to('cpu').numpy()\n",
        "\n",
        "  pred_flat = np.argmax(logits, axis=1).flatten()\n",
        "  \n",
        "  predictions = np.concatenate([predictions, pred_flat])\n",
        "  true_labels = np.concatenate([true_labels, label_ids])\n",
        "\n",
        "predictions = predictions.astype(np.int32)\n",
        "true_labels = true_labels.astype(np.int32)"
      ]
    },
    {
      "cell_type": "code",
      "execution_count": null,
      "metadata": {
        "colab": {
          "base_uri": "https://localhost:8080/"
        },
        "id": "mTYE-8mhvVHq",
        "outputId": "043995b1-0c4b-41c5-a70b-79de85d115ed"
      },
      "outputs": [
        {
          "name": "stdout",
          "output_type": "stream",
          "text": [
            "              precision    recall  f1-score   support\n",
            "\n",
            "           0       0.86      0.88      0.87       155\n",
            "           1       0.68      0.42      0.52        40\n",
            "           2       0.92      0.80      0.86        56\n",
            "           3       0.94      0.89      0.91       101\n",
            "           4       0.85      0.95      0.90        66\n",
            "           5       0.92      0.96      0.94       103\n",
            "           6       0.95      0.94      0.95       132\n",
            "           7       0.98      0.98      0.98       108\n",
            "           8       0.91      0.96      0.93       142\n",
            "           9       0.93      0.98      0.95        97\n",
            "\n",
            "    accuracy                           0.91      1000\n",
            "   macro avg       0.89      0.88      0.88      1000\n",
            "weighted avg       0.91      0.91      0.91      1000\n",
            "\n"
          ]
        }
      ],
      "source": [
        "from sklearn.metrics import classification_report\n",
        "print(classification_report(true_labels, predictions))"
      ]
    },
    {
      "cell_type": "markdown",
      "metadata": {
        "id": "BThyphW6vlDZ"
      },
      "source": [
        "# Implement"
      ]
    },
    {
      "cell_type": "code",
      "execution_count": null,
      "metadata": {
        "colab": {
          "base_uri": "https://localhost:8080/",
          "height": 206
        },
        "id": "8DEqBJpDvm7o",
        "outputId": "21482a28-ae0e-4fa7-94ce-ec4e1e122694"
      },
      "outputs": [
        {
          "data": {
            "text/html": [
              "\n",
              "  <div id=\"df-a6c126ea-1ca4-4bc8-9a18-b08365a4e8a2\">\n",
              "    <div class=\"colab-df-container\">\n",
              "      <div>\n",
              "<style scoped>\n",
              "    .dataframe tbody tr th:only-of-type {\n",
              "        vertical-align: middle;\n",
              "    }\n",
              "\n",
              "    .dataframe tbody tr th {\n",
              "        vertical-align: top;\n",
              "    }\n",
              "\n",
              "    .dataframe thead th {\n",
              "        text-align: right;\n",
              "    }\n",
              "</style>\n",
              "<table border=\"1\" class=\"dataframe\">\n",
              "  <thead>\n",
              "    <tr style=\"text-align: right;\">\n",
              "      <th></th>\n",
              "      <th>label</th>\n",
              "      <th>text</th>\n",
              "    </tr>\n",
              "  </thead>\n",
              "  <tbody>\n",
              "    <tr>\n",
              "      <th>24053</th>\n",
              "      <td>Suc khoe</td>\n",
              "      <td>đi chân_đất dễ bị mụn cóc ở bàn_chân khi còn b...</td>\n",
              "    </tr>\n",
              "    <tr>\n",
              "      <th>22351</th>\n",
              "      <td>Suc khoe</td>\n",
              "      <td>gặp nguy vì móng tay giả các móng tay giả từng...</td>\n",
              "    </tr>\n",
              "    <tr>\n",
              "      <th>28143</th>\n",
              "      <td>The gioi</td>\n",
              "      <td>toà_án ukraina xét đơn kiện của yanukovic hôm_...</td>\n",
              "    </tr>\n",
              "    <tr>\n",
              "      <th>2868</th>\n",
              "      <td>Chinh tri Xa hoi</td>\n",
              "      <td>nhà tự cháy bùng_phát ở tây ninh nhiều căn nhà...</td>\n",
              "    </tr>\n",
              "    <tr>\n",
              "      <th>19489</th>\n",
              "      <td>Phap luat</td>\n",
              "      <td>chủ đầu_tư dự_án khu đô_thị mới cái rồng lừa 2...</td>\n",
              "    </tr>\n",
              "  </tbody>\n",
              "</table>\n",
              "</div>\n",
              "      <button class=\"colab-df-convert\" onclick=\"convertToInteractive('df-a6c126ea-1ca4-4bc8-9a18-b08365a4e8a2')\"\n",
              "              title=\"Convert this dataframe to an interactive table.\"\n",
              "              style=\"display:none;\">\n",
              "        \n",
              "  <svg xmlns=\"http://www.w3.org/2000/svg\" height=\"24px\"viewBox=\"0 0 24 24\"\n",
              "       width=\"24px\">\n",
              "    <path d=\"M0 0h24v24H0V0z\" fill=\"none\"/>\n",
              "    <path d=\"M18.56 5.44l.94 2.06.94-2.06 2.06-.94-2.06-.94-.94-2.06-.94 2.06-2.06.94zm-11 1L8.5 8.5l.94-2.06 2.06-.94-2.06-.94L8.5 2.5l-.94 2.06-2.06.94zm10 10l.94 2.06.94-2.06 2.06-.94-2.06-.94-.94-2.06-.94 2.06-2.06.94z\"/><path d=\"M17.41 7.96l-1.37-1.37c-.4-.4-.92-.59-1.43-.59-.52 0-1.04.2-1.43.59L10.3 9.45l-7.72 7.72c-.78.78-.78 2.05 0 2.83L4 21.41c.39.39.9.59 1.41.59.51 0 1.02-.2 1.41-.59l7.78-7.78 2.81-2.81c.8-.78.8-2.07 0-2.86zM5.41 20L4 18.59l7.72-7.72 1.47 1.35L5.41 20z\"/>\n",
              "  </svg>\n",
              "      </button>\n",
              "      \n",
              "  <style>\n",
              "    .colab-df-container {\n",
              "      display:flex;\n",
              "      flex-wrap:wrap;\n",
              "      gap: 12px;\n",
              "    }\n",
              "\n",
              "    .colab-df-convert {\n",
              "      background-color: #E8F0FE;\n",
              "      border: none;\n",
              "      border-radius: 50%;\n",
              "      cursor: pointer;\n",
              "      display: none;\n",
              "      fill: #1967D2;\n",
              "      height: 32px;\n",
              "      padding: 0 0 0 0;\n",
              "      width: 32px;\n",
              "    }\n",
              "\n",
              "    .colab-df-convert:hover {\n",
              "      background-color: #E2EBFA;\n",
              "      box-shadow: 0px 1px 2px rgba(60, 64, 67, 0.3), 0px 1px 3px 1px rgba(60, 64, 67, 0.15);\n",
              "      fill: #174EA6;\n",
              "    }\n",
              "\n",
              "    [theme=dark] .colab-df-convert {\n",
              "      background-color: #3B4455;\n",
              "      fill: #D2E3FC;\n",
              "    }\n",
              "\n",
              "    [theme=dark] .colab-df-convert:hover {\n",
              "      background-color: #434B5C;\n",
              "      box-shadow: 0px 1px 3px 1px rgba(0, 0, 0, 0.15);\n",
              "      filter: drop-shadow(0px 1px 2px rgba(0, 0, 0, 0.3));\n",
              "      fill: #FFFFFF;\n",
              "    }\n",
              "  </style>\n",
              "\n",
              "      <script>\n",
              "        const buttonEl =\n",
              "          document.querySelector('#df-a6c126ea-1ca4-4bc8-9a18-b08365a4e8a2 button.colab-df-convert');\n",
              "        buttonEl.style.display =\n",
              "          google.colab.kernel.accessAllowed ? 'block' : 'none';\n",
              "\n",
              "        async function convertToInteractive(key) {\n",
              "          const element = document.querySelector('#df-a6c126ea-1ca4-4bc8-9a18-b08365a4e8a2');\n",
              "          const dataTable =\n",
              "            await google.colab.kernel.invokeFunction('convertToInteractive',\n",
              "                                                     [key], {});\n",
              "          if (!dataTable) return;\n",
              "\n",
              "          const docLinkHtml = 'Like what you see? Visit the ' +\n",
              "            '<a target=\"_blank\" href=https://colab.research.google.com/notebooks/data_table.ipynb>data table notebook</a>'\n",
              "            + ' to learn more about interactive tables.';\n",
              "          element.innerHTML = '';\n",
              "          dataTable['output_type'] = 'display_data';\n",
              "          await google.colab.output.renderOutput(dataTable, element);\n",
              "          const docLink = document.createElement('div');\n",
              "          docLink.innerHTML = docLinkHtml;\n",
              "          element.appendChild(docLink);\n",
              "        }\n",
              "      </script>\n",
              "    </div>\n",
              "  </div>\n",
              "  "
            ],
            "text/plain": [
              "                  label                                               text\n",
              "24053          Suc khoe  đi chân_đất dễ bị mụn cóc ở bàn_chân khi còn b...\n",
              "22351          Suc khoe  gặp nguy vì móng tay giả các móng tay giả từng...\n",
              "28143          The gioi  toà_án ukraina xét đơn kiện của yanukovic hôm_...\n",
              "2868   Chinh tri Xa hoi  nhà tự cháy bùng_phát ở tây ninh nhiều căn nhà...\n",
              "19489         Phap luat  chủ đầu_tư dự_án khu đô_thị mới cái rồng lừa 2..."
            ]
          },
          "execution_count": 48,
          "metadata": {},
          "output_type": "execute_result"
        }
      ],
      "source": [
        "data = pd.read_csv(test_path, index_col=0).sample(frac=1)[:5]\n",
        "data"
      ]
    },
    {
      "cell_type": "code",
      "execution_count": null,
      "metadata": {
        "colab": {
          "base_uri": "https://localhost:8080/"
        },
        "id": "YnJm7HogwYd4",
        "outputId": "68122578-6dd4-4f8c-8535-68cd762c5af5"
      },
      "outputs": [
        {
          "name": "stdout",
          "output_type": "stream",
          "text": [
            "Nhãn dự đoán: ['Suc khoe' 'Suc khoe' 'The gioi' 'Chinh tri Xa hoi' 'Phap luat']\n",
            "Nhãn thực tế:  ['Suc khoe' 'Suc khoe' 'The gioi' 'Chinh tri Xa hoi' 'Phap luat']\n"
          ]
        }
      ],
      "source": [
        "actual_label = data['label'].values\n",
        "texts_pred = data['text'].values\n",
        "\n",
        "X_pred = tokenizer(list(texts_pred), max_length=MAX_LEN, padding='max_length', truncation=True)\n",
        "\n",
        "input_ids = torch.tensor(X_pred.input_ids).to(device)\n",
        "input_mask = torch.tensor(X_pred.attention_mask).to(device)\n",
        "\n",
        "outputs = model(input_ids, \n",
        "                token_type_ids=None, \n",
        "                attention_mask=input_mask)\n",
        "\n",
        "logits = outputs[0]\n",
        "logits = logits.detach().cpu().numpy()\n",
        "logits_flat = np.argmax(logits, axis=1).flatten()\n",
        "\n",
        "pred_label = le.inverse_transform(logits_flat)\n",
        "print('Nhãn dự đoán:', pred_label)\n",
        "print('Nhãn thực tế: ',actual_label)"
      ]
    },
    {
      "cell_type": "code",
      "execution_count": null,
      "metadata": {
        "id": "1UuY-N2MwGZM"
      },
      "outputs": [],
      "source": [
        "def pred_label_texts(text):\n",
        "  # cho vào 1 đoạn văn (nên có hàm xử lý làm sạch text)\n",
        "  # cho ra label\n",
        "  X_pred = tokenizer([text], max_length=MAX_LEN, padding='max_length', truncation=True)\n",
        "\n",
        "  input_ids = torch.tensor(X_pred.input_ids).to(device)\n",
        "  input_mask = torch.tensor(X_pred.attention_mask).to(device)\n",
        "\n",
        "  outputs = model(input_ids, \n",
        "                  token_type_ids=None, \n",
        "                  attention_mask=input_mask)\n",
        "\n",
        "  logits = outputs[0]\n",
        "  logits = logits.detach().cpu().numpy()\n",
        "  logits_flat = np.argmax(logits, axis=1).flatten()\n",
        "\n",
        "  pred_label = le.inverse_transform(logits_flat)\n",
        "  return pred_label[0]"
      ]
    },
    {
      "cell_type": "code",
      "execution_count": null,
      "metadata": {
        "colab": {
          "base_uri": "https://localhost:8080/",
          "height": 110
        },
        "id": "sRjBXT8syQur",
        "outputId": "a2c802c2-d4d6-4bc8-b657-fb045dea3fda"
      },
      "outputs": [
        {
          "data": {
            "application/vnd.google.colaboratory.intrinsic+json": {
              "type": "string"
            },
            "text/plain": [
              "'đi chân_đất dễ bị mụn cóc ở bàn_chân khi còn bé chắc bạn từng nghe nói nếu sờ hay đụng phải da_cóc thì sẽ bị mụn cóc thật_ra bệnh do một loại virus gây ra việc đi chân_không ở những nơi ẩm_ướt như phòng tắm công_cộng phòng xông_hơi hồ bơi sẽ làm tăng nguy_cơ mọc mụn cóc ở bàn_chân mụn cóc là những u nhỏ ở ngoài da bề_mặt thường sần_sùi gây ra bởi virus hpv human papilloma virus hpv xâm_nhập vào da qua những vết trầy_xước bên ngoài mụn cóc có_thể phát_triển trong nhiều tháng mới nhìn thấy được bệnh có_thể gặp ở mọi lứa tuổi nhưng tỷ_lệ mắc phải ở trẻ_em cao hơn vì chúng hiếu_động và thường_xuyên làm trầy_xước chân tay hay đi chân_không cắn móng tay nghịch đất_cát lê_la dưới đất hpv thường sống ở những nơi ấm ẩm nên việc đi chân_đất ở những nơi này sẽ dễ bị mụn cóc bàn_chân hơn làm móng cắt khoé móng chân tay cũng là nguyên_nhân thường gây mụn cóc ở người_lớn nhất là phụ_nữ mụn cóc có_thể lây_lan qua 2 cách tiếp_xúc trực_tiếp với mụn cóc của người_bệnh như sờ cọ sát cầm nắm ngoài_ra bệnh cũng có_thể lây qua việc dùng chung vật_dụng với người có mụn cóc như khăn lau giầy_dép quần_áo thông_thường phải mất 2 3 tháng sau khi tiếp_xúc với người_bệnh thì mới biết có bị lây hay không tự lây_nhiễm nhảy trên bản_thân người_bệnh từ vài mụn cóc lớn ban_đầu còn được gọi là mụn cóc mẹ chúng lây_lan sang những vùng da lân_cận hay những vùng da bị tiếp_xúc trực_tiếp như cào gãi cầm nắm và tạo ra nhiều mụn cóc con nhỏ li_ti những mụn con này sẽ phát_triển rồi tiếp_tục lây_lan theo cấp số_nhân ngoài việc gây mất thẩm_mỹ mụn cóc bàn_chân còn gây ra một_số triệu_chứng khác khi phát_triển to hoặc nằm ở những vị_trí bị đè ép khi đi bộ hay chạy gót chân đầu ngón chân cái chúng sẽ gây đau hay tạo cảm_giác vướng cộm rất khó_chịu mụn cóc quanh móng chân có_thể làm nứt_nẻ và đau một_số trường_hợp mụn cóc bàn_chân có_thể tự biến mất sau nhiều tháng hay nhiều năm nhưng đa_số vẫn tồn_tại phát_triển và lây_lan trong thời_gian dài vì_vậy khi chúng phát_triển nhiều to đau chảy_máu khi va_chạm làm khó_chịu mất thẩm_mỹ thì cần phải điều_trị mụn cóc là những u sùi lành_tính ngoài da vì_vậy việc điều_trị cũng phải lành_tính không gây hại cho bệnh_nhân và giảm_thiểu tối_đa các tác_dụng phụ các phương_pháp điều_trị phổ_biến tự điều_chỉnh tại nhà chọn giầy_dép thích_hợp vừa_vặn không chật hay rộng quá giữ_chân luôn khô_ráo và thay tất thường_xuyên dùng các miếng đế lót đệm lót trong giày_dép ở vị_trí có các mụn cóc để giảm đau hay khó_chịu ngoài_ra có_thể dùng đá_bọt nhám khi tắm chà lên bề_mặt mụn để giảm bớt kích_thước và độ sần_sùi chấm acid khi mụn dưới 0 5 cm sử_dụng dung_dịch acid salicylic và lactic duofilm collomack thuốc sẽ làm tiêu_hủy bong tróc các tế_bào sừng cùng với virus ở mụn cóc tuy_nhiên phải mất nhiều tuần mới có_thể làm mụn biến mất hoàn_toàn bệnh_nhân có_thể dùng những chế_phẩm này tại nhà nhưng để sử_dụng thuốc hiệu_quả cần rửa sạch vùng sẽ chấm thuốc bằng xà_phòng cọ sát nhẹ bề_mặt mụn bằng tay hay đá_mài que dũa móng tay để loại_bỏ lớp tế_bào chết do lần thoa thuốc ngày hôm trước thoa thuốc lên bề_mặt hay ngay cuống mụn cóc hình dây của mụn hạn_chế tối_đa việc để thuốc dính ra vùng xung_quanh thuốc sẽ khô nhanh_chóng và để lại lớp thuốc màu trắng đậy kín nắp chai thuốc ngay sau khi thoa và để chỗ mát vì thuốc dễ bay_hơi thoa mỗi ngày 1 lần sau khi tắm tuy_nhiên không được tự sử_dụng thuốc khi có các bệnh như đái_tháo_đường bệnh tim_mạch rối_loạn tuần_hoàn ngoại_vi mụn cóc bị nhiễm_trùng chấm nitơ lỏng thường được chia làm 3 đợt mỗi đợt cách nhau khoảng 2 3 tuần sẽ cho kết_quả tốt có người khỏi hoàn_toàn thuốc ít để lại sẹo hay biến_đổi sắc_tố ở vị_trí chấm nhưng thường gây khó_chịu khi chấm có_thể gây phồng nước và gây đau nhiều ngày sau khi chấm đốt điện_áp_dụng cho các mụn cóc dưới 1 cm hay ở vị_trí khó tiểu_phẫu ví_dụ ở kẽ ngón chân tay ưu_điểm của việc đốt điện là tiến_hành nhanh_chóng đơn_giản rẻ_tiền khuyết_điểm là thời_gian lành vết_thương lâu hơn tiểu phẩu chăm_sóc vết_thương phải kỹ_lưỡng hơn dễ bị nhiễm_trùng vì vết_thương hở chảy_máu bị tái_phát có_thể để lại sẹo tiểu_phẫu gây_tê tại_chỗ áp_dụng cho mụn có kích_thước dưới 2 cm và ở vị_trí bằng_phẳng gót chân cạnh bàn_chân lòng bàn_chân ưu_điểm của tiểu_phẫu là thời_gian lành vết_thương nhanh hơn đốt điện chăm_sóc vết_thương sau mổ dễ_dàng ít nguy_cơ nhiễm_trùng hơn vết_thương kín nhưng chi_phí cao hơn dễ bị tái_phát có_thể để lại sẹo lưu_ý không được làm tróc lớp mày trên bề_mặt vết_thương sau khi đốt điện vì nó sẽ tự rớt ra khi vết_thương đã lành hoàn_toàn tương_tự không được làm bể rút dịch bóng_nước trên bề_mặt vết_thương chấm nitơ lỏng nếu có các dấu_hiệu và triệu_chứng sưng nóng đỏ và đau tiết dịch hay mủ mùi hôi sốt cao hay ớn lạnh thì có_thể vết_thương bị nhiễm trùngđôi khi mụn cóc tái_phát nhanh do các mụn mẹ đã gieo_rắc virus và tạo các mụn con ở những vùng da xung_quanh trước khi chúng được điều_trị các mụn cóc con này có kích_thước quá nhỏ nên không_thể phát_hiện được khi đốt mụn mẹ vì_vậy để tránh tái_phát nhiều lần bệnh_nhân phải được dặn_dò và tự theo_dõi hằng ngày trong 2 4 tuần tại những vị_trí tổn_thương cũ để phát_hiện ngay bất_kỳ biểu_hiện tái_phát nào điều_trị lại chấm acid nitơ đốt điện tiểu_phẫu càng nhanh càng tốt những tổn_thương tái_phát trước khi virus kịp lây_nhiễm ra những vùng da xung_quanh'"
            ]
          },
          "execution_count": 51,
          "metadata": {},
          "output_type": "execute_result"
        }
      ],
      "source": [
        "index = 0\n",
        "l = actual_label[index]\n",
        "p = list(texts_pred)[index]\n",
        "p"
      ]
    },
    {
      "cell_type": "code",
      "execution_count": null,
      "metadata": {
        "colab": {
          "base_uri": "https://localhost:8080/",
          "height": 36
        },
        "id": "5m_2IvK6wih1",
        "outputId": "c4334952-8b13-40e7-dbe8-5e328587003a"
      },
      "outputs": [
        {
          "data": {
            "application/vnd.google.colaboratory.intrinsic+json": {
              "type": "string"
            },
            "text/plain": [
              "'Suc khoe'"
            ]
          },
          "execution_count": 52,
          "metadata": {},
          "output_type": "execute_result"
        }
      ],
      "source": [
        "pred_label_texts(p)"
      ]
    },
    {
      "cell_type": "code",
      "execution_count": null,
      "metadata": {
        "colab": {
          "base_uri": "https://localhost:8080/",
          "height": 36
        },
        "id": "mYzYJfLcxHek",
        "outputId": "4e0c7470-5e09-4cc1-def6-471542933c01"
      },
      "outputs": [
        {
          "data": {
            "application/vnd.google.colaboratory.intrinsic+json": {
              "type": "string"
            },
            "text/plain": [
              "'Suc khoe'"
            ]
          },
          "execution_count": 53,
          "metadata": {},
          "output_type": "execute_result"
        }
      ],
      "source": [
        "l"
      ]
    }
  ],
  "metadata": {
    "accelerator": "GPU",
    "colab": {
      "provenance": []
    },
    "gpuClass": "standard",
    "kernelspec": {
      "display_name": "Python 3",
      "language": "python",
      "name": "python3"
    },
    "language_info": {
      "codemirror_mode": {
        "name": "ipython",
        "version": 3
      },
      "file_extension": ".py",
      "mimetype": "text/x-python",
      "name": "python",
      "nbconvert_exporter": "python",
      "pygments_lexer": "ipython3",
      "version": "3.9.12"
    },
    "orig_nbformat": 4
  },
  "nbformat": 4,
  "nbformat_minor": 0
}
